{
 "cells": [
  {
   "cell_type": "markdown",
   "metadata": {},
   "source": [
    "Uma interface é essencialmente um contrato que define um conjunto de métodos públicos sem implementá-los. "
   ]
  },
  {
   "cell_type": "code",
   "execution_count": 7,
   "metadata": {},
   "outputs": [],
   "source": [
    "interface Notificacao {\n",
    "    enviarMensagem(mensagem: string): void;\n",
    "}"
   ]
  },
  {
   "cell_type": "markdown",
   "metadata": {},
   "source": [
    "Classes "
   ]
  },
  {
   "cell_type": "code",
   "execution_count": 8,
   "metadata": {},
   "outputs": [],
   "source": [
    "class NotificadorEmail implements Notificacao {\n",
    "    enviarMensagem(mensagem: string): void {\n",
    "        console.log(`Enviando email: ${mensagem}`);\n",
    "    }\n",
    "}\n",
    "\n",
    "class NotificadorSMS implements Notificacao {\n",
    "    enviarMensagem(mensagem: string): void {\n",
    "        console.log(`Enviando SMS: ${mensagem}`);\n",
    "    }\n",
    "}\n",
    "\n",
    "class NotificadorApp implements Notificacao {\n",
    "    enviarMensagem(mensagem: string): void {\n",
    "        console.log(`Enviando mensagem via app: ${mensagem}`);\n",
    "    }\n",
    "}"
   ]
  },
  {
   "cell_type": "markdown",
   "metadata": {},
   "source": [
    "Método"
   ]
  },
  {
   "cell_type": "code",
   "execution_count": 9,
   "metadata": {},
   "outputs": [],
   "source": [
    "\n",
    "function enviarNotificacoes() {\n",
    "    const notificadores: Notificacao[] = [\n",
    "        new NotificadorEmail(),\n",
    "        new NotificadorSMS(),\n",
    "        new NotificadorApp()\n",
    "    ];\n",
    "\n",
    "    notificadores.forEach(notificador => notificador.enviarMensagem(\"Olá, isso é uma notificação de teste!\"));\n",
    "}\n"
   ]
  },
  {
   "cell_type": "markdown",
   "metadata": {},
   "source": [
    "Chamada\n"
   ]
  },
  {
   "cell_type": "code",
   "execution_count": 10,
   "metadata": {},
   "outputs": [
    {
     "name": "stdout",
     "output_type": "stream",
     "text": [
      "Enviando mensagem via app: Olá, isso é uma notificação de teste!\n"
     ]
    }
   ],
   "source": [
    "enviarNotificacoes();\n"
   ]
  }
 ],
 "metadata": {
  "kernelspec": {
   "display_name": "Deno",
   "language": "typescript",
   "name": "deno"
  },
  "language_info": {
   "codemirror_mode": "typescript",
   "file_extension": ".ts",
   "mimetype": "text/x.typescript",
   "name": "typescript",
   "nbconvert_exporter": "script",
   "pygments_lexer": "typescript",
   "version": "5.5.2"
  }
 },
 "nbformat": 4,
 "nbformat_minor": 2
}
