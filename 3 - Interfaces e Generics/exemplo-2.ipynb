{
 "cells": [
  {
   "cell_type": "markdown",
   "metadata": {},
   "source": [
    "Os generics permitem que você crie componentes reutilizáveis que funcionam com diferentes tipos de dados. Eles fornecem uma maneira de criar funções, classes e interfaces que podem trabalhar com qualquer tipo, mantendo a segurança dos tipos.\n",
    "\n"
   ]
  },
  {
   "cell_type": "markdown",
   "metadata": {},
   "source": [
    "Acao, Titulo e Imovel"
   ]
  },
  {
   "cell_type": "code",
   "execution_count": 2,
   "metadata": {},
   "outputs": [],
   "source": [
    "class Acao {\n",
    "    tipo: \"acao\";\n",
    "    nome: string;\n",
    "    quantidade: number;\n",
    "    precoPorAcao: number;\n",
    "    dividendoAnual: number;\n",
    "}\n",
    "\n",
    "class Titulo {\n",
    "    tipo: \"titulo\";\n",
    "    nome: string;\n",
    "    valorInvestido: number;\n",
    "    taxaDeJurosAnual: number;\n",
    "}\n",
    "\n",
    "class Imovel {\n",
    "    tipo: \"imovel\";\n",
    "    nome: string;\n",
    "    valorInvestido: number;\n",
    "    aluguelMensal: number;\n",
    "}"
   ]
  },
  {
   "cell_type": "markdown",
   "metadata": {},
   "source": [
    "InvestimentoManager"
   ]
  },
  {
   "cell_type": "code",
   "execution_count": 3,
   "metadata": {},
   "outputs": [],
   "source": [
    "class InvestimentoManager<T> {\n",
    "    \n",
    "    private investimentos: T[] = [];\n",
    "\n",
    "    adicionarInvestimento(investimento: T): void {\n",
    "        this.investimentos.push(investimento);\n",
    "    }\n",
    "\n",
    "    listarInvestimentos(): T[] {\n",
    "        return this.investimentos;\n",
    "    }\n",
    "\n",
    "    obterInvestimento(index: number): T | undefined {\n",
    "        return this.investimentos[index];\n",
    "    }\n",
    "}"
   ]
  },
  {
   "cell_type": "markdown",
   "metadata": {},
   "source": [
    "Testando implementação:"
   ]
  },
  {
   "cell_type": "code",
   "execution_count": 4,
   "metadata": {},
   "outputs": [
    {
     "name": "stdout",
     "output_type": "stream",
     "text": [
      "Ações:\n",
      "[\n",
      "  {\n",
      "    tipo: \"acao\",\n",
      "    nome: \"Empresa X\",\n",
      "    quantidade: 100,\n",
      "    precoPorAcao: 50,\n",
      "    dividendoAnual: 5\n",
      "  }\n",
      "]\n"
     ]
    }
   ],
   "source": [
    "const acaoManager = new InvestimentoManager<Acao>();\n",
    "\n",
    "acaoManager.adicionarInvestimento({\n",
    "    tipo: \"acao\",\n",
    "    nome: \"Empresa X\",\n",
    "    quantidade: 100,\n",
    "    precoPorAcao: 50,\n",
    "    dividendoAnual: 5\n",
    "});\n",
    "console.log(\"Ações:\");\n",
    "console.log(acaoManager.listarInvestimentos());"
   ]
  },
  {
   "cell_type": "code",
   "execution_count": 5,
   "metadata": {},
   "outputs": [
    {
     "name": "stdout",
     "output_type": "stream",
     "text": [
      "Títulos:\n",
      "[\n",
      "  {\n",
      "    tipo: \"titulo\",\n",
      "    nome: \"Título Y\",\n",
      "    valorInvestido: 10000,\n",
      "    taxaDeJurosAnual: 7\n",
      "  }\n",
      "]\n"
     ]
    }
   ],
   "source": [
    "const tituloManager = new InvestimentoManager<Titulo>();\n",
    "tituloManager.adicionarInvestimento({\n",
    "    tipo: \"titulo\",\n",
    "    nome: \"Título Y\",\n",
    "    valorInvestido: 10000,\n",
    "    taxaDeJurosAnual: 7\n",
    "});\n",
    "console.log(\"Títulos:\");\n",
    "console.log(tituloManager.listarInvestimentos());"
   ]
  },
  {
   "cell_type": "code",
   "execution_count": 6,
   "metadata": {},
   "outputs": [
    {
     "name": "stdout",
     "output_type": "stream",
     "text": [
      "Imóveis:\n",
      "[\n",
      "  {\n",
      "    tipo: \"imovel\",\n",
      "    nome: \"Apartamento Z\",\n",
      "    valorInvestido: 300000,\n",
      "    aluguelMensal: 1500\n",
      "  }\n",
      "]\n"
     ]
    }
   ],
   "source": [
    "const imovelManager = new InvestimentoManager<Imovel>();\n",
    "imovelManager.adicionarInvestimento({\n",
    "    tipo: \"imovel\",\n",
    "    nome: \"Apartamento Z\",\n",
    "    valorInvestido: 300000,\n",
    "    aluguelMensal: 1500\n",
    "});\n",
    "console.log(\"Imóveis:\");\n",
    "console.log(imovelManager.listarInvestimentos());"
   ]
  }
 ],
 "metadata": {
  "kernelspec": {
   "display_name": "Deno",
   "language": "typescript",
   "name": "deno"
  },
  "language_info": {
   "codemirror_mode": "typescript",
   "file_extension": ".ts",
   "mimetype": "text/x.typescript",
   "name": "typescript",
   "nbconvert_exporter": "script",
   "pygments_lexer": "typescript",
   "version": "5.5.2"
  }
 },
 "nbformat": 4,
 "nbformat_minor": 2
}
