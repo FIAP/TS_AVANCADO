{
 "cells": [
  {
   "cell_type": "markdown",
   "metadata": {},
   "source": [
    "A **Injeção de Dependência** é um padrão de design no qual as dependências de um objeto são fornecidas por meio de um mecanismo externo, em vez de serem criadas internamente.\n"
   ]
  },
  {
   "cell_type": "code",
   "execution_count": 5,
   "metadata": {},
   "outputs": [],
   "source": [
    "abstract class Investimento {\n",
    "    constructor(public nome: string, public valorInvestido: number) {}\n",
    "\n",
    "    abstract calcularRetornoAnual(): number;\n",
    "\n",
    "    descrever(): string {\n",
    "        return `Investimento: ${this.nome}, Valor Investido: R$ ${this.valorInvestido}`;\n",
    "    }\n",
    "}\n",
    "\n",
    "class Imovel extends Investimento {\n",
    "    constructor(\n",
    "        nome: string,\n",
    "        valorInvestido: number,\n",
    "        public aluguelMensal: number\n",
    "    ) {\n",
    "        super(nome, valorInvestido);\n",
    "    }\n",
    "\n",
    "    calcularRetornoAnual(): number {\n",
    "        return this.aluguelMensal * 12;\n",
    "    }\n",
    "\n",
    "    descrever(): string {\n",
    "        return `${super.descrever()}, Aluguel Mensal: R$ ${this.aluguelMensal}`;\n",
    "    }\n",
    "}"
   ]
  },
  {
   "cell_type": "markdown",
   "metadata": {},
   "source": [
    "Repository"
   ]
  },
  {
   "cell_type": "code",
   "execution_count": 6,
   "metadata": {},
   "outputs": [],
   "source": [
    "interface IRepository {\n",
    "    save() : void;\n",
    "}\n",
    "\n",
    "class Repository implements IRepository {\n",
    "    \n",
    "    save(investimento: Investimento): void {\n",
    "        console.log(`Saving investment: ${JSON.stringify(investimento)}`);\n",
    "    };\n",
    "}"
   ]
  },
  {
   "cell_type": "markdown",
   "metadata": {},
   "source": [
    "Service"
   ]
  },
  {
   "cell_type": "code",
   "execution_count": 7,
   "metadata": {},
   "outputs": [],
   "source": [
    "class ImovelService {\n",
    "    save(investimento: Imovel): void {\n",
    "        let imovel = new Repository();\n",
    "        imovel.save(investimento);\n",
    "     }\n",
    "}"
   ]
  },
  {
   "cell_type": "markdown",
   "metadata": {},
   "source": [
    "Implementação"
   ]
  },
  {
   "cell_type": "code",
   "execution_count": 8,
   "metadata": {},
   "outputs": [
    {
     "name": "stdout",
     "output_type": "stream",
     "text": [
      "Saving investment: {\"tipo\":\"imovel\",\"nome\":\"Apartamento Z\",\"valorInvestido\":300000,\"aluguelMensal\":1500}\n"
     ]
    }
   ],
   "source": [
    "const imovelParam: Imovel = {\n",
    "    tipo: \"imovel\",\n",
    "    nome: \"Apartamento Z\",\n",
    "    valorInvestido: 300000,\n",
    "    aluguelMensal: 1500\n",
    "};\n",
    "\n",
    "let imovel = new ImovelService();\n",
    "imovel.save(imovelParam);"
   ]
  },
  {
   "cell_type": "markdown",
   "metadata": {},
   "source": [
    "Registrar Container de DI"
   ]
  },
  {
   "cell_type": "code",
   "execution_count": 9,
   "metadata": {},
   "outputs": [],
   "source": [
    "class Container {\n",
    "    private services = new Map<string, any>();\n",
    "\n",
    "    register<T>(name: string, implementation: new (...args: any[]) => T): void {\n",
    "        this.services.set(name, implementation);\n",
    "    }\n",
    "\n",
    "    resolve<T>(name: string): T {\n",
    "        const implementation = this.services.get(name);\n",
    "        if (!implementation) {\n",
    "            throw new Error(`Service not found: ${name}`);\n",
    "        }\n",
    "        return new implementation();\n",
    "    }\n",
    "}"
   ]
  },
  {
   "cell_type": "markdown",
   "metadata": {},
   "source": [
    "Registrar as classes"
   ]
  },
  {
   "cell_type": "code",
   "execution_count": 10,
   "metadata": {},
   "outputs": [],
   "source": [
    "const container = new Container();\n",
    "container.register<IRepository<Imovel>>(\"ImovelRepository\", Repository);\n",
    "container.register<ImovelService>(\"ImovelService\", ImovelService);"
   ]
  },
  {
   "cell_type": "markdown",
   "metadata": {},
   "source": [
    "Refatorar ImovelService"
   ]
  },
  {
   "cell_type": "code",
   "execution_count": 11,
   "metadata": {},
   "outputs": [],
   "source": [
    "class ImovelService {\n",
    "    private repository: IRepository<Imovel>;\n",
    "\n",
    "    constructor(repository: IRepository<Imovel>) {\n",
    "        this.repository = repository;\n",
    "    }\n",
    "\n",
    "    save(investimento: Imovel): void {\n",
    "        this.repository.save(investimento);\n",
    "    }\n",
    "}"
   ]
  },
  {
   "cell_type": "markdown",
   "metadata": {},
   "source": [
    "Implementação"
   ]
  },
  {
   "cell_type": "code",
   "execution_count": 12,
   "metadata": {},
   "outputs": [
    {
     "name": "stdout",
     "output_type": "stream",
     "text": [
      "Saving investment: {\"tipo\":\"imovel\",\"nome\":\"Apartamento W\",\"valorInvestido\":300000,\"aluguelMensal\":2000}\n"
     ]
    }
   ],
   "source": [
    "const imovelParam: Imovel = {\n",
    "    tipo: \"imovel\",\n",
    "    nome: \"Apartamento W\",\n",
    "    valorInvestido: 300000,\n",
    "    aluguelMensal: 2000\n",
    "};\n",
    "\n",
    "const imovelRepository = container.resolve<IRepository<Imovel>>(\"ImovelRepository\");\n",
    "\n",
    "const imovelService = new ImovelService(imovelRepository);\n",
    "imovelService.save(imovelParam);"
   ]
  }
 ],
 "metadata": {
  "kernelspec": {
   "display_name": "Deno",
   "language": "typescript",
   "name": "deno"
  },
  "language_info": {
   "codemirror_mode": "typescript",
   "file_extension": ".ts",
   "mimetype": "text/x.typescript",
   "name": "typescript",
   "nbconvert_exporter": "script",
   "pygments_lexer": "typescript",
   "version": "5.5.2"
  }
 },
 "nbformat": 4,
 "nbformat_minor": 2
}
