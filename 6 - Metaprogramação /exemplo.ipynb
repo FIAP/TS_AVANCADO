{
 "cells": [
  {
   "cell_type": "markdown",
   "metadata": {},
   "source": [
    "A metaprogramação é a prática de escrever programas que manipulam outros programas ou a si próprios. Em TypeScript, a metaprogramação pode ser realizada usando decoradores, que são funções que podem ser aplicadas a classes, métodos, propriedades ou parâmetros para modificar seu comportamento. https://www.typescriptlang.org/docs/handbook/decorators.html\n"
   ]
  },
  {
   "cell_type": "code",
   "execution_count": 1,
   "metadata": {},
   "outputs": [],
   "source": [
    "function log(target: any) {\n",
    "    console.log(`Classe registrada: ${target.name}`);\n",
    "}  \n",
    "  "
   ]
  },
  {
   "cell_type": "code",
   "execution_count": 2,
   "metadata": {},
   "outputs": [],
   "source": [
    "function logWithPrefix(prefix: string) {\n",
    "    return function (target: any) {\n",
    "        console.log(`${prefix} - Classe registrada: ${target.name}`);\n",
    "    }\n",
    "}"
   ]
  },
  {
   "cell_type": "code",
   "execution_count": 3,
   "metadata": {},
   "outputs": [
    {
     "name": "stdout",
     "output_type": "stream",
     "text": [
      "Investimento - Classe registrada: Acao\n"
     ]
    },
    {
     "data": {
      "text/plain": [
       "\u001b[36m[Function (anonymous)]\u001b[39m"
      ]
     },
     "execution_count": 3,
     "metadata": {},
     "output_type": "execute_result"
    }
   ],
   "source": [
    "@logWithPrefix('Investimento')\n",
    "class Acao {\n",
    "    constructor(\n",
    "        public nome: string,\n",
    "        public valorInvestido: number,\n",
    "        public quantidade: number,\n",
    "        public precoPorAcao: number,\n",
    "        public dividendoAnual: number\n",
    "    ) {} \n",
    "}\n"
   ]
  },
  {
   "cell_type": "code",
   "execution_count": 4,
   "metadata": {},
   "outputs": [
    {
     "name": "stdout",
     "output_type": "stream",
     "text": [
      "Classe registrada: Titulo\n"
     ]
    }
   ],
   "source": [
    "@log\n",
    "class Titulo {\n",
    "    constructor(\n",
    "        public nome: string,\n",
    "        public valorInvestido: number,\n",
    "        public taxaDeJurosAnual: number\n",
    "    ) {}\n",
    " \n",
    "    descrever(): string {\n",
    "        return `Título: ${this.nome}, Valor Investido: R$ ${this.valorInvestido}, Taxa de Juros Anual: ${this.taxaDeJurosAnual}%`;\n",
    "    }\n",
    "}"
   ]
  },
  {
   "cell_type": "code",
   "execution_count": 6,
   "metadata": {},
   "outputs": [
    {
     "name": "stdout",
     "output_type": "stream",
     "text": [
      "Título: Título Y, Valor Investido: R$ 10000, Taxa de Juros Anual: 7%\n"
     ]
    }
   ],
   "source": [
    "const titulo = new Titulo(\"Título Y\", 10000, 7);\n",
    "console.log(titulo.descrever());"
   ]
  }
 ],
 "metadata": {
  "kernelspec": {
   "display_name": "Deno",
   "language": "typescript",
   "name": "deno"
  },
  "language_info": {
   "codemirror_mode": "typescript",
   "file_extension": ".ts",
   "mimetype": "text/x.typescript",
   "name": "typescript",
   "nbconvert_exporter": "script",
   "pygments_lexer": "typescript",
   "version": "5.5.2"
  }
 },
 "nbformat": 4,
 "nbformat_minor": 2
}
