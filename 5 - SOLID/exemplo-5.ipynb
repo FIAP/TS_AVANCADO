{
 "cells": [
  {
   "cell_type": "markdown",
   "metadata": {},
   "source": [
    "O Princípio da Inversão de Dependência (DIP) afirma que:\n",
    "\n",
    "* Módulos de alto nível não devem depender de módulos de baixo nível. Ambos devem depender de abstrações.\n"
   ]
  },
  {
   "cell_type": "code",
   "execution_count": 7,
   "metadata": {},
   "outputs": [],
   "source": [
    "interface Depreciacao {\n",
    "    calcularDepreciacao(): number;\n",
    "}\n",
    "\n",
    "abstract class Investimento {\n",
    "    constructor(public nome: string, public valorInvestido: number) {}\n",
    "\n",
    "    abstract calcularRetornoAnual(): number;\n",
    "\n",
    "    descrever(): string {\n",
    "        return `Investimento: ${this.nome}, Valor Investido: R$ ${this.valorInvestido}`;\n",
    "    }\n",
    "}"
   ]
  },
  {
   "cell_type": "code",
   "execution_count": 8,
   "metadata": {},
   "outputs": [],
   "source": [
    "class Titulo extends Investimento  {\n",
    "    constructor(\n",
    "        nome: string,\n",
    "        valorInvestido: number,\n",
    "        public taxaDeJurosAnual: number\n",
    "    ) {\n",
    "        super(nome, valorInvestido);\n",
    "    }\n",
    "\n",
    "    calcularRetornoAnual(): number {\n",
    "        return this.valorInvestido * (this.taxaDeJurosAnual / 100);\n",
    "    }\n",
    "\n",
    "    descrever(): string {\n",
    "        return `${super.descrever()}, Taxa de Juros Anual: ${this.taxaDeJurosAnual}%`;\n",
    "    }\n",
    "}\n",
    "\n",
    "class Acao extends Investimento  {\n",
    "    constructor(\n",
    "        nome: string,\n",
    "        valorInvestido: number,\n",
    "        public quantidade: number,\n",
    "        public precoPorAcao: number,\n",
    "        public dividendoAnual: number\n",
    "    ) {\n",
    "        super(nome, valorInvestido);\n",
    "    }\n",
    "\n",
    "    calcularRetornoAnual(): number {\n",
    "        return this.quantidade * this.dividendoAnual;\n",
    "    }\n",
    "\n",
    "    descrever(): string {\n",
    "        return `Ação: ${this.nome}, Quantidade: ${this.quantidade}, Preço por Ação: R$ ${this.precoPorAcao}, Dividendo Anual: R$ ${this.dividendoAnual}`;\n",
    "    }\n",
    "}\n",
    "\n",
    "class Imovel extends Investimento implements  Depreciacao {\n",
    "    constructor(\n",
    "        nome: string,\n",
    "        valorInvestido: number,\n",
    "        public aluguelMensal: number\n",
    "    ) {\n",
    "        super(nome, valorInvestido);\n",
    "    }\n",
    "\n",
    "    calcularRetornoAnual(): number {\n",
    "        return this.aluguelMensal * 12;\n",
    "    }\n",
    "\n",
    "    calcularDepreciacao(): number {\n",
    "        return this.valorInvestido * 0.01; \n",
    "    }\n",
    "\n",
    "    descrever(): string {\n",
    "        return `${super.descrever()}, Aluguel Mensal: R$ ${this.aluguelMensal}`;\n",
    "    }\n",
    "}"
   ]
  },
  {
   "cell_type": "markdown",
   "metadata": {},
   "source": [
    "Criando um Use Case"
   ]
  },
  {
   "cell_type": "code",
   "execution_count": 9,
   "metadata": {},
   "outputs": [],
   "source": [
    "class InvestimentoCalculaRetornoAnualUseCase {\n",
    "    \n",
    "    calcularRetornoAnualAcao(acao: Acao): number {\n",
    "        return acao.calcularRetornoAnual();\n",
    "    }\n",
    "\n",
    "    calcularRetornoAnualTitulo(titulo: Titulo): number {\n",
    "        return titulo.calcularRetornoAnual();\n",
    "    }\n",
    "\n",
    "    calcularRetornoAnualImovel(imovel: Imovel): number {\n",
    "        return imovel.calcularRetornoAnual();\n",
    "    }\n",
    "   \n",
    "}\n"
   ]
  },
  {
   "cell_type": "code",
   "execution_count": 10,
   "metadata": {},
   "outputs": [],
   "source": [
    "const titulo = new Titulo(\"Título Y\", 10000, 7);\n",
    "const acao = new Acao(\"Empresa X\", 5000, 100, 50, 5);\n",
    "const imovel = new Imovel(\"Apartamento Z\", 300000, 1500);\n",
    "\n",
    "const investimentoUseCase = new InvestimentoCalculaRetornoAnualUseCase();\n"
   ]
  },
  {
   "cell_type": "code",
   "execution_count": 11,
   "metadata": {},
   "outputs": [
    {
     "name": "stdout",
     "output_type": "stream",
     "text": [
      "Retorno anual: R$ 500\n"
     ]
    }
   ],
   "source": [
    "console.log(`Retorno anual: R$ ${investimentoUseCase.calcularRetornoAnualAcao(acao)}`);"
   ]
  },
  {
   "cell_type": "code",
   "execution_count": 12,
   "metadata": {},
   "outputs": [
    {
     "name": "stdout",
     "output_type": "stream",
     "text": [
      "Retorno anual: R$ 700.0000000000001\n"
     ]
    }
   ],
   "source": [
    "console.log(`Retorno anual: R$ ${investimentoUseCase.calcularRetornoAnualTitulo(titulo)}`);"
   ]
  },
  {
   "cell_type": "code",
   "execution_count": 13,
   "metadata": {},
   "outputs": [
    {
     "name": "stdout",
     "output_type": "stream",
     "text": [
      "Retorno anual: R$ 18000\n"
     ]
    }
   ],
   "source": [
    "console.log(`Retorno anual: R$ ${investimentoUseCase.calcularRetornoAnualImovel(imovel)}`);"
   ]
  },
  {
   "cell_type": "markdown",
   "metadata": {},
   "source": [
    "Refatorando\n"
   ]
  },
  {
   "cell_type": "code",
   "execution_count": 14,
   "metadata": {},
   "outputs": [],
   "source": [
    "class InvestimentoUseCase {\n",
    "    calcularRetornoAnual(rendavel: Investimento): number {\n",
    "        return rendavel.calcularRetornoAnual();\n",
    "    }\n",
    "\n",
    "    calcularDepreciacao(depreciavel: Depreciavel): number {\n",
    "        return depreciavel.calcularDepreciacao();\n",
    "    }\n",
    "\n",
    "    descreverInvestimento(investimento: Investimento): string {\n",
    "        return investimento.descrever();\n",
    "    }\n",
    "}"
   ]
  }
 ],
 "metadata": {
  "kernelspec": {
   "display_name": "Deno",
   "language": "typescript",
   "name": "deno"
  },
  "language_info": {
   "codemirror_mode": "typescript",
   "file_extension": ".ts",
   "mimetype": "text/x.typescript",
   "name": "typescript",
   "nbconvert_exporter": "script",
   "pygments_lexer": "typescript",
   "version": "5.5.2"
  }
 },
 "nbformat": 4,
 "nbformat_minor": 2
}
