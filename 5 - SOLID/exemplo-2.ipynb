{
 "cells": [
  {
   "cell_type": "markdown",
   "metadata": {},
   "source": [
    "O Princípio do Aberto/Fechado (OCP) é o segundo princípio do SOLID e afirma que entidades de software (classes, módulos, funções, etc.) devem estar abertas para extensão, mas fechadas para modificação. Isso significa que você deve ser capaz de adicionar novas funcionalidades sem alterar o código existente. https://programadriano.medium.com/princ%C3%ADpios-do-solid-com-typescript-2c6a4911242d\n"
   ]
  },
  {
   "cell_type": "code",
   "execution_count": 1,
   "metadata": {},
   "outputs": [],
   "source": [
    "abstract class Investimento {\n",
    "    constructor(public nome: string, public valorInvestido: number) {}\n",
    "\n",
    "    abstract calcularRetornoAnual(): number;\n",
    "\n",
    "    descrever(): string {\n",
    "        return `Investimento: ${this.nome}, Valor Investido: R$ ${this.valorInvestido}`;\n",
    "    }\n",
    "}\n",
    "\n",
    "class Acao extends Investimento {\n",
    "    constructor(\n",
    "        nome: string,\n",
    "        valorInvestido: number,\n",
    "        public quantidade: number,\n",
    "        public precoPorAcao: number,\n",
    "        public dividendoAnual: number\n",
    "    ) {\n",
    "        super(nome, valorInvestido);\n",
    "    }\n",
    "\n",
    "    calcularRetornoAnual(): number {\n",
    "        return this.quantidade * this.dividendoAnual;\n",
    "    }\n",
    "\n",
    "    descrever(): string {\n",
    "        return `${super.descrever()}, Quantidade: ${this.quantidade}, Preço por Ação: R$ ${this.precoPorAcao}, Dividendo Anual: R$ ${this.dividendoAnual}`;\n",
    "    }\n",
    "}\n",
    "\n",
    "class Titulo extends Investimento {\n",
    "    constructor(\n",
    "        nome: string,\n",
    "        valorInvestido: number,\n",
    "        public taxaDeJurosAnual: number\n",
    "    ) {\n",
    "        super(nome, valorInvestido);\n",
    "    }\n",
    "\n",
    "    calcularRetornoAnual(): number {\n",
    "        return this.valorInvestido * (this.taxaDeJurosAnual / 100);\n",
    "    }\n",
    "\n",
    "    descrever(): string {\n",
    "        return `${super.descrever()}, Taxa de Juros Anual: ${this.taxaDeJurosAnual}%`;\n",
    "    }\n",
    "}\n",
    "\n",
    "class Imovel extends Investimento {\n",
    "    constructor(\n",
    "        nome: string,\n",
    "        valorInvestido: number,\n",
    "        public aluguelMensal: number\n",
    "    ) {\n",
    "        super(nome, valorInvestido);\n",
    "    }\n",
    "\n",
    "    calcularRetornoAnual(): number {\n",
    "        return this.aluguelMensal * 12;\n",
    "    }\n",
    "\n",
    "    descrever(): string {\n",
    "        return `${super.descrever()}, Aluguel Mensal: R$ ${this.aluguelMensal}`;\n",
    "    }\n",
    "}\n"
   ]
  },
  {
   "cell_type": "markdown",
   "metadata": {},
   "source": [
    "InvestimentoService"
   ]
  },
  {
   "cell_type": "code",
   "execution_count": 2,
   "metadata": {},
   "outputs": [],
   "source": [
    "\n",
    "class InvestimentoService {\n",
    "    \n",
    "    calcularRetornoAnual(investimento: Investimento): number {\n",
    "        if (investimento instanceof Acao) {\n",
    "            return investimento.quantidade * investimento.dividendoAnual;\n",
    "        } else if (investimento instanceof Titulo) {\n",
    "            return investimento.valorInvestido * (investimento.taxaDeJurosAnual / 100);\n",
    "        } else if (investimento instanceof Imovel) {\n",
    "            return investimento.aluguelMensal * 12;\n",
    "        }\n",
    "        throw new Error(\"Tipo de investimento desconhecido\");\n",
    "    }\n",
    "\n",
    "    descrever(investimento: Investimento): string {\n",
    "        if (investimento instanceof Acao) {\n",
    "            return `Ação: ${investimento.nome}, Quantidade: ${investimento.quantidade}, Preço por Ação: R$ ${investimento.precoPorAcao}, Dividendo Anual: R$ ${investimento.dividendoAnual}`;\n",
    "        } else if (investimento instanceof Titulo) {\n",
    "            return `Título: ${investimento.nome}, Valor Investido: R$ ${investimento.valorInvestido}, Taxa de Juros Anual: ${investimento.taxaDeJurosAnual}%`;\n",
    "        } else if (investimento instanceof Imovel) {\n",
    "            return `Imóvel: ${investimento.nome}, Valor Investido: R$ ${investimento.valorInvestido}, Aluguel Mensal: R$ ${investimento.aluguelMensal}`;\n",
    "        }\n",
    "        throw new Error(\"Tipo de investimento desconhecido\");\n",
    "    }\n",
    "}"
   ]
  },
  {
   "cell_type": "code",
   "execution_count": 3,
   "metadata": {},
   "outputs": [
    {
     "name": "stdout",
     "output_type": "stream",
     "text": [
      "Retorno anual: R$ 500\n"
     ]
    }
   ],
   "source": [
    "const acao = new Acao(\"Empresa X\", 5000, 100, 50, 5);\n",
    "const titulo = new Titulo(\"Título Y\", 10000, 7);\n",
    "const imovel = new Imovel(\"Apartamento Z\", 300000, 1500);\n",
    "\n",
    "const investimentoService = new InvestimentoService();\n",
    "console.log(investimentoService.descrever(acao));\n",
    "console.log(`Retorno anual: R$ ${investimentoService.calcularRetornoAnual(acao)}`);"
   ]
  },
  {
   "cell_type": "code",
   "execution_count": 4,
   "metadata": {},
   "outputs": [
    {
     "name": "stdout",
     "output_type": "stream",
     "text": [
      "Retorno anual: R$ 700.0000000000001\n"
     ]
    }
   ],
   "source": [
    "console.log(investimentoService.descrever(titulo));\n",
    "console.log(`Retorno anual: R$ ${investimentoService.calcularRetornoAnual(titulo)}`);"
   ]
  },
  {
   "cell_type": "code",
   "execution_count": 5,
   "metadata": {},
   "outputs": [
    {
     "name": "stdout",
     "output_type": "stream",
     "text": [
      "Retorno anual: R$ 18000\n"
     ]
    }
   ],
   "source": [
    "console.log(investimentoService.descrever(imovel));\n",
    "console.log(`Retorno anual: R$ ${investimentoService.calcularRetornoAnual(imovel)}`);"
   ]
  },
  {
   "cell_type": "markdown",
   "metadata": {},
   "source": [
    "Refatorando"
   ]
  },
  {
   "cell_type": "code",
   "execution_count": 6,
   "metadata": {},
   "outputs": [],
   "source": [
    "interface IInvestimentoService<T extends Investimento> {\n",
    "    calcularRetornoAnual(investimento: T): number;\n",
    "    descrever(investimento: T): string;\n",
    "}"
   ]
  },
  {
   "cell_type": "code",
   "execution_count": 7,
   "metadata": {},
   "outputs": [],
   "source": [
    "\n",
    "class AcaoService implements IInvestimentoService<Acao> {\n",
    "    calcularRetornoAnual(acao: Acao): number {\n",
    "        return acao.calcularRetornoAnual();\n",
    "    }\n",
    "\n",
    "    descrever(acao: Acao): string {\n",
    "        return acao.descrever();\n",
    "    }\n",
    "}\n",
    "\n",
    "class TituloService implements IInvestimentoService<Titulo> {\n",
    "    calcularRetornoAnual(titulo: Titulo): number {\n",
    "        return titulo.calcularRetornoAnual();\n",
    "    }\n",
    "\n",
    "    descrever(titulo: Titulo): string {\n",
    "        return titulo.descrever();\n",
    "    }\n",
    "}\n",
    "\n",
    "class ImovelService implements IInvestimentoService<Imovel> {\n",
    "    calcularRetornoAnual(imovel: Imovel): number {\n",
    "        return imovel.calcularRetornoAnual();\n",
    "    }\n",
    "\n",
    "    descrever(imovel: Imovel): string {\n",
    "        return imovel.descrever();\n",
    "    }\n",
    "}"
   ]
  },
  {
   "cell_type": "markdown",
   "metadata": {},
   "source": [
    "Registrando [DI]"
   ]
  },
  {
   "cell_type": "code",
   "execution_count": 8,
   "metadata": {},
   "outputs": [],
   "source": [
    "class Container {\n",
    "    private services = new Map<string, any>();\n",
    "\n",
    "    register<T>(name: string, implementation: new (...args: any[]) => T): void {\n",
    "        this.services.set(name, implementation);\n",
    "    }\n",
    "\n",
    "    resolve<T>(name: string): T {\n",
    "        const implementation = this.services.get(name);\n",
    "        if (!implementation) {\n",
    "            throw new Error(`Service not found: ${name}`);\n",
    "        }\n",
    "        return new implementation();\n",
    "    }\n",
    "}\n",
    "\n",
    "const container = new Container();\n",
    "container.register<IInvestimentoService<Acao>>(\"AcaoService\", AcaoService);\n",
    "container.register<IInvestimentoService<Titulo>>(\"TituloService\", TituloService);\n",
    "container.register<IInvestimentoService<Imovel>>(\"ImovelService\", ImovelService);"
   ]
  },
  {
   "cell_type": "markdown",
   "metadata": {},
   "source": [
    "Implementação"
   ]
  },
  {
   "cell_type": "code",
   "execution_count": 9,
   "metadata": {},
   "outputs": [],
   "source": [
    "const acao = new Acao(\"Empresa X\", 5000, 100, 50, 5);\n",
    "const titulo = new Titulo(\"Título Y\", 10000, 7);\n",
    "const imovel = new Imovel(\"Apartamento Z\", 300000, 1500);\n",
    "\n",
    "const acaoService = container.resolve<IInvestimentoService<Acao>>(\"AcaoService\");\n",
    "const tituloService = container.resolve<IInvestimentoService<Titulo>>(\"TituloService\");\n",
    "const imovelService = container.resolve<IInvestimentoService<Imovel>>(\"ImovelService\");"
   ]
  },
  {
   "cell_type": "code",
   "execution_count": 10,
   "metadata": {},
   "outputs": [
    {
     "name": "stdout",
     "output_type": "stream",
     "text": [
      "Retorno anual: R$ 500\n"
     ]
    }
   ],
   "source": [
    "console.log(acaoService.descrever(acao));\n",
    "console.log(`Retorno anual: R$ ${acaoService.calcularRetornoAnual(acao)}`);"
   ]
  },
  {
   "cell_type": "code",
   "execution_count": 11,
   "metadata": {},
   "outputs": [
    {
     "name": "stdout",
     "output_type": "stream",
     "text": [
      "Retorno anual: R$ 700.0000000000001\n"
     ]
    }
   ],
   "source": [
    "console.log(tituloService.descrever(titulo));\n",
    "console.log(`Retorno anual: R$ ${tituloService.calcularRetornoAnual(titulo)}`);"
   ]
  },
  {
   "cell_type": "code",
   "execution_count": 12,
   "metadata": {},
   "outputs": [
    {
     "name": "stdout",
     "output_type": "stream",
     "text": [
      "Retorno anual: R$ 18000\n"
     ]
    }
   ],
   "source": [
    "console.log(imovelService.descrever(imovel));\n",
    "console.log(`Retorno anual: R$ ${imovelService.calcularRetornoAnual(imovel)}`);"
   ]
  }
 ],
 "metadata": {
  "kernelspec": {
   "display_name": "Deno",
   "language": "typescript",
   "name": "deno"
  },
  "language_info": {
   "codemirror_mode": "typescript",
   "file_extension": ".ts",
   "mimetype": "text/x.typescript",
   "name": "typescript",
   "nbconvert_exporter": "script",
   "pygments_lexer": "typescript",
   "version": "5.5.2"
  }
 },
 "nbformat": 4,
 "nbformat_minor": 2
}
