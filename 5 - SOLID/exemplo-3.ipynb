{
 "cells": [
  {
   "cell_type": "markdown",
   "metadata": {},
   "source": [
    "O Princípio de Substituição de Liskov (LSP) afirma que, se S é um subtipo de T, então objetos do tipo T devem poder ser substituídos por objetos do tipo S sem alterar as propriedades desejáveis do programa. Em outras palavras, as subclasses devem ser substituíveis por suas superclasses."
   ]
  },
  {
   "cell_type": "code",
   "execution_count": 1,
   "metadata": {},
   "outputs": [],
   "source": [
    "abstract class Investimento {\n",
    "    constructor(public nome: string, public valorInvestido: number) {}\n",
    "\n",
    "    abstract calcularRetornoAnual(): number;\n",
    "\n",
    "    descrever(): string {\n",
    "        return `Investimento: ${this.nome}, Valor Investido: R$ ${this.valorInvestido}`;\n",
    "    }\n",
    "}\n",
    "\n",
    "class Acao extends Investimento {\n",
    "    constructor(\n",
    "        nome: string,\n",
    "        valorInvestido: number,\n",
    "        public quantidade: number,\n",
    "        public precoPorAcao: number,\n",
    "        public dividendoAnual: number\n",
    "    ) {\n",
    "        super(nome, valorInvestido);\n",
    "    }\n",
    "\n",
    "    calcularRetornoAnual(): number {\n",
    "        return this.quantidade * this.dividendoAnual;\n",
    "    }\n",
    "\n",
    "    descrever(): string {\n",
    "        return `${super.descrever()}, Quantidade: ${this.quantidade}, Preço por Ação: R$ ${this.precoPorAcao}, Dividendo Anual: R$ ${this.dividendoAnual}`;\n",
    "    }\n",
    "}\n",
    "\n",
    "class Titulo extends Investimento {\n",
    "    constructor(\n",
    "        nome: string,\n",
    "        valorInvestido: number,\n",
    "        public taxaDeJurosAnual: number\n",
    "    ) {\n",
    "        super(nome, valorInvestido);\n",
    "    }\n",
    "\n",
    "    calcularRetornoAnual(): number {\n",
    "        return this.valorInvestido * (this.taxaDeJurosAnual / 100);\n",
    "    }\n",
    "\n",
    "    descrever(): string {\n",
    "        return `${super.descrever()}, Taxa de Juros Anual: ${this.taxaDeJurosAnual}%`;\n",
    "    }\n",
    "}\n",
    "\n",
    "class Imovel extends Investimento {\n",
    "    constructor(\n",
    "        nome: string,\n",
    "        valorInvestido: number,\n",
    "        public aluguelMensal: number\n",
    "    ) {\n",
    "        super(nome, valorInvestido);\n",
    "    }\n",
    "\n",
    "    calcularRetornoAnual(): number {\n",
    "        return this.aluguelMensal * 12;\n",
    "    }\n",
    "\n",
    "    descrever(): string {\n",
    "        return `${super.descrever()}, Aluguel Mensal: R$ ${this.aluguelMensal}`;\n",
    "    }\n",
    "\n",
    "\n",
    "    calcularDepreciacao(): number {\n",
    "        return this.valorInvestido * 0.01; \n",
    "    }\n",
    "}"
   ]
  },
  {
   "cell_type": "markdown",
   "metadata": {},
   "source": [
    "Função que espera trabalhar com a classe base Investimento"
   ]
  },
  {
   "cell_type": "code",
   "execution_count": 2,
   "metadata": {},
   "outputs": [],
   "source": [
    "function imprimirRetornoAnual(investimento: Investimento): void {\n",
    "    console.log(investimento.descrever());\n",
    "    console.log(`Retorno anual: R$ ${investimento.calcularRetornoAnual()}`);\n",
    "}"
   ]
  },
  {
   "cell_type": "code",
   "execution_count": 3,
   "metadata": {},
   "outputs": [
    {
     "name": "stdout",
     "output_type": "stream",
     "text": [
      "Retorno anual: R$ 500\n"
     ]
    }
   ],
   "source": [
    "const acao = new Acao(\"Empresa X\", 5000, 100, 50, 5);\n",
    "const titulo = new Titulo(\"Título Y\", 10000, 7);\n",
    "const imovel = new Imovel(\"Apartamento Z\", 300000, 1500);\n",
    "\n",
    "imprimirRetornoAnual(acao);"
   ]
  },
  {
   "cell_type": "code",
   "execution_count": 10,
   "metadata": {},
   "outputs": [
    {
     "name": "stdout",
     "output_type": "stream",
     "text": [
      "Retorno anual: R$ 700.0000000000001\n"
     ]
    }
   ],
   "source": [
    "imprimirRetornoAnual(titulo);"
   ]
  },
  {
   "cell_type": "code",
   "execution_count": 4,
   "metadata": {},
   "outputs": [
    {
     "name": "stdout",
     "output_type": "stream",
     "text": [
      "Depreciação anual: R$ 3000\n"
     ]
    }
   ],
   "source": [
    "imprimirRetornoAnual(imovel); \n",
    "console.log(`Depreciação anual: R$ ${imovel.calcularDepreciacao()}`);"
   ]
  },
  {
   "cell_type": "markdown",
   "metadata": {},
   "source": [
    "Fluxo: https://miro.com/app/board/uXjVKwF2VAc=/?share_link_id=738783734298 "
   ]
  },
  {
   "cell_type": "markdown",
   "metadata": {},
   "source": [
    "Atualizar o código com calcularDepreciacao"
   ]
  },
  {
   "cell_type": "code",
   "execution_count": 12,
   "metadata": {},
   "outputs": [],
   "source": [
    "abstract class Investimento {\n",
    "    constructor(public nome: string, public valorInvestido: number) {}\n",
    "\n",
    "    abstract calcularRetornoAnual(): number;\n",
    "    abstract calcularDepreciacao(): number;\n",
    "\n",
    "    descrever(): string {\n",
    "        return `Investimento: ${this.nome}, Valor Investido: R$ ${this.valorInvestido}`;\n",
    "    }\n",
    "}\n"
   ]
  }
 ],
 "metadata": {
  "kernelspec": {
   "display_name": "Deno",
   "language": "typescript",
   "name": "deno"
  },
  "language_info": {
   "codemirror_mode": "typescript",
   "file_extension": ".ts",
   "mimetype": "text/x.typescript",
   "name": "typescript",
   "nbconvert_exporter": "script",
   "pygments_lexer": "typescript",
   "version": "5.5.2"
  }
 },
 "nbformat": 4,
 "nbformat_minor": 2
}
