{
 "cells": [
  {
   "cell_type": "markdown",
   "metadata": {},
   "source": [
    "O Princípio da Responsabilidade Única (SRP) é o primeiro princípio do SOLID. Ele afirma que uma classe deve ter apenas uma razão para mudar, ou seja, ela deve ter apenas uma responsabilidade.\n",
    "\n"
   ]
  },
  {
   "cell_type": "markdown",
   "metadata": {},
   "source": [
    "Classe abstrata"
   ]
  },
  {
   "cell_type": "code",
   "execution_count": 1,
   "metadata": {},
   "outputs": [],
   "source": [
    "abstract class Investimento {\n",
    "    constructor(public nome: string, public valorInvestido: number) {}\n",
    "\n",
    "    abstract calcularRetornoAnual(): number;\n",
    "\n",
    "    descrever(): string {\n",
    "        return `Investimento: ${this.nome}, Valor Investido: R$ ${this.valorInvestido}`;\n",
    "    }\n",
    "}"
   ]
  },
  {
   "cell_type": "markdown",
   "metadata": {},
   "source": [
    "Extends investimento"
   ]
  },
  {
   "cell_type": "code",
   "execution_count": 2,
   "metadata": {},
   "outputs": [],
   "source": [
    "class Acao extends Investimento {\n",
    "    constructor(\n",
    "        nome: string,\n",
    "        valorInvestido: number,\n",
    "        public quantidade: number,\n",
    "        public precoPorAcao: number,\n",
    "        public dividendoAnual: number\n",
    "    ) {\n",
    "        super(nome, valorInvestido);\n",
    "    }\n",
    "\n",
    "    calcularRetornoAnual(): number {\n",
    "        return this.quantidade * this.dividendoAnual;\n",
    "    }\n",
    "\n",
    "    descrever(): string {\n",
    "        return `${super.descrever()}, Quantidade: ${this.quantidade}, Preço por Ação: R$ ${this.precoPorAcao}, Dividendo Anual: R$ ${this.dividendoAnual}`;\n",
    "    }\n",
    "}"
   ]
  },
  {
   "cell_type": "markdown",
   "metadata": {},
   "source": [
    "Acao Service (Violação)"
   ]
  },
  {
   "cell_type": "code",
   "execution_count": 3,
   "metadata": {},
   "outputs": [],
   "source": [
    "class AcaoService {\n",
    "    calcularRetornoAnual(acao: Acao): number {\n",
    "        return acao.quantidade * acao.dividendoAnual;\n",
    "    }\n",
    "\n",
    "    descrever(acao: Acao): string {\n",
    "        return `Ação: ${acao.nome}, Quantidade: ${acao.quantidade}, Preço por Ação: R$ ${acao.precoPorAcao}, Dividendo Anual: R$ ${acao.dividendoAnual}`;\n",
    "    }\n",
    "\n",
    "    save(acao: Acao): void {\n",
    "        console.log(`Saving investment: ${JSON.stringify(acao)}`);\n",
    "    }\n",
    "}"
   ]
  },
  {
   "cell_type": "markdown",
   "metadata": {},
   "source": [
    "Executando"
   ]
  },
  {
   "cell_type": "code",
   "execution_count": 4,
   "metadata": {},
   "outputs": [
    {
     "name": "stdout",
     "output_type": "stream",
     "text": [
      "Ação: Empresa X, Quantidade: 100, Preço por Ação: R$ 50, Dividendo Anual: R$ 5\n"
     ]
    }
   ],
   "source": [
    "const acao = new Acao(\"Empresa X\", 5000, 100, 50, 5);\n",
    "const acaoService = new AcaoService();\n",
    "console.log(acaoService.descrever(acao));\n"
   ]
  },
  {
   "cell_type": "code",
   "execution_count": 5,
   "metadata": {},
   "outputs": [
    {
     "name": "stdout",
     "output_type": "stream",
     "text": [
      "Retorno anual: R$ 500\n"
     ]
    }
   ],
   "source": [
    "console.log(`Retorno anual: R$ ${acaoService.calcularRetornoAnual(acao)}`);\n"
   ]
  },
  {
   "cell_type": "code",
   "execution_count": 6,
   "metadata": {},
   "outputs": [
    {
     "name": "stdout",
     "output_type": "stream",
     "text": [
      "Saving investment: {\"nome\":\"Empresa X\",\"valorInvestido\":5000,\"quantidade\":100,\"precoPorAcao\":50,\"dividendoAnual\":5}\n"
     ]
    }
   ],
   "source": [
    "acaoService.save(acao);"
   ]
  },
  {
   "cell_type": "markdown",
   "metadata": {},
   "source": [
    "Refatorando o código (Service)"
   ]
  },
  {
   "cell_type": "code",
   "execution_count": 7,
   "metadata": {},
   "outputs": [],
   "source": [
    "class AcaoRetornoService {\n",
    "    calcularRetornoAnual(acao: Acao): number {\n",
    "        return acao.quantidade * acao.dividendoAnual;\n",
    "    }\n",
    "}\n",
    "\n",
    "class AcaoDescricaoService {\n",
    "    descrever(acao: Acao): string {\n",
    "        return `Ação: ${acao.nome}, Quantidade: ${acao.quantidade}, Preço por Ação: R$ ${acao.precoPorAcao}, Dividendo Anual: R$ ${acao.dividendoAnual}`;\n",
    "    }\n",
    "}"
   ]
  },
  {
   "cell_type": "code",
   "execution_count": 8,
   "metadata": {},
   "outputs": [],
   "source": [
    "interface IRepository<T> {\n",
    "    save(investimento: T): void;\n",
    "}\n",
    "\n",
    "class Repository<T> implements IRepository<T> {\n",
    "    save(investimento: T): void {\n",
    "        console.log(`Saving investment: ${JSON.stringify(investimento)}`);\n",
    "    }\n",
    "}"
   ]
  },
  {
   "cell_type": "markdown",
   "metadata": {},
   "source": [
    "Registramos o Container de DI"
   ]
  },
  {
   "cell_type": "code",
   "execution_count": 9,
   "metadata": {},
   "outputs": [],
   "source": [
    "class Container {\n",
    "    private services = new Map<string, any>();\n",
    "\n",
    "    register<T>(name: string, implementation: new (...args: any[]) => T): void {\n",
    "        this.services.set(name, implementation);\n",
    "    }\n",
    "\n",
    "    resolve<T>(name: string): T {\n",
    "        const implementation = this.services.get(name);\n",
    "        if (!implementation) {\n",
    "            throw new Error(`Service not found: ${name}`);\n",
    "        }\n",
    "        return new implementation();\n",
    "    }\n",
    "}"
   ]
  },
  {
   "cell_type": "code",
   "execution_count": 10,
   "metadata": {},
   "outputs": [],
   "source": [
    "const container = new Container();\n",
    "container.register<IRepository<Acao>>(\"AcaoRepository\", Repository);\n",
    "container.register<AcaoRetornoService>(\"AcaoRetornoService\", AcaoRetornoService);\n",
    "container.register<AcaoDescricaoService>(\"AcaoDescricaoService\", AcaoDescricaoService);"
   ]
  },
  {
   "cell_type": "markdown",
   "metadata": {},
   "source": [
    "Implementação"
   ]
  },
  {
   "cell_type": "code",
   "execution_count": 11,
   "metadata": {},
   "outputs": [
    {
     "name": "stdout",
     "output_type": "stream",
     "text": [
      "Ação: Empresa X, Quantidade: 100, Preço por Ação: R$ 50, Dividendo Anual: R$ 5\n"
     ]
    }
   ],
   "source": [
    "const acaoRepository = container.resolve<IRepository<Acao>>(\"AcaoRepository\");\n",
    "const acaoRetornoService = container.resolve<AcaoRetornoService>(\"AcaoRetornoService\");\n",
    "const acaoDescricaoService = container.resolve<AcaoDescricaoService>(\"AcaoDescricaoService\");\n",
    "\n",
    "const acao = new Acao(\"Empresa X\", 5000, 100, 50, 5);\n",
    "\n",
    "console.log(acaoDescricaoService.descrever(acao));"
   ]
  },
  {
   "cell_type": "code",
   "execution_count": 12,
   "metadata": {},
   "outputs": [
    {
     "name": "stdout",
     "output_type": "stream",
     "text": [
      "Retorno anual: R$ 500\n"
     ]
    }
   ],
   "source": [
    "console.log(`Retorno anual: R$ ${acaoRetornoService.calcularRetornoAnual(acao)}`);"
   ]
  },
  {
   "cell_type": "code",
   "execution_count": 13,
   "metadata": {},
   "outputs": [
    {
     "name": "stdout",
     "output_type": "stream",
     "text": [
      "Saving investment: {\"nome\":\"Empresa X\",\"valorInvestido\":5000,\"quantidade\":100,\"precoPorAcao\":50,\"dividendoAnual\":5}\n"
     ]
    }
   ],
   "source": [
    "acaoRepository.save(acao);"
   ]
  }
 ],
 "metadata": {
  "kernelspec": {
   "display_name": "Deno",
   "language": "typescript",
   "name": "deno"
  },
  "language_info": {
   "codemirror_mode": "typescript",
   "file_extension": ".ts",
   "mimetype": "text/x.typescript",
   "name": "typescript",
   "nbconvert_exporter": "script",
   "pygments_lexer": "typescript",
   "version": "5.5.2"
  }
 },
 "nbformat": 4,
 "nbformat_minor": 2
}
