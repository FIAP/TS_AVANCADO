{
 "cells": [
  {
   "cell_type": "markdown",
   "metadata": {},
   "source": [
    "O **Tipo de Afirmação** ou **type assertion** nos permite informar ao compilador o tipo da variavel."
   ]
  },
  {
   "cell_type": "code",
   "execution_count": 3,
   "metadata": {},
   "outputs": [
    {
     "name": "stdout",
     "output_type": "stream",
     "text": [
      "16\n"
     ]
    }
   ],
   "source": [
    "let valorInicial: any = \"this is a string\";\n",
    "\n",
    "let strLength: number = (valorInicial as string).length;\n",
    "\n",
    "console.log(strLength); "
   ]
  },
  {
   "cell_type": "code",
   "execution_count": 4,
   "metadata": {},
   "outputs": [
    {
     "name": "stdout",
     "output_type": "stream",
     "text": [
      "16\n"
     ]
    }
   ],
   "source": [
    "let valorInicial: any = \"this is a string\";\n",
    "\n",
    "let strLength: number = (<string>valorInicial).length;\n",
    "\n",
    "console.log(strLength); "
   ]
  }
 ],
 "metadata": {
  "kernelspec": {
   "display_name": "Deno",
   "language": "typescript",
   "name": "deno"
  },
  "language_info": {
   "codemirror_mode": "typescript",
   "file_extension": ".ts",
   "mimetype": "text/x.typescript",
   "name": "typescript",
   "nbconvert_exporter": "script",
   "pygments_lexer": "typescript",
   "version": "5.5.2"
  }
 },
 "nbformat": 4,
 "nbformat_minor": 2
}
