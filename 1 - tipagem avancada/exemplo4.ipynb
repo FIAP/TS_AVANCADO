{
 "cells": [
  {
   "cell_type": "markdown",
   "metadata": {},
   "source": [
    "O tipo **Map** é uma coleção de pares chave-valor onde tanto as chaves quanto os valores podem ser de qualquer tipo."
   ]
  },
  {
   "cell_type": "code",
   "execution_count": 3,
   "metadata": {},
   "outputs": [],
   "source": [
    "interface Produto {\n",
    "    id: number;\n",
    "    nome: string;\n",
    "    preco: number;\n",
    "    estoque: number;\n",
    "}"
   ]
  },
  {
   "cell_type": "markdown",
   "metadata": {},
   "source": [
    "Vamos criar um catalogo de produtos"
   ]
  },
  {
   "cell_type": "code",
   "execution_count": 4,
   "metadata": {},
   "outputs": [],
   "source": [
    "const catalogo: Map<number, Produto> = new Map();"
   ]
  },
  {
   "cell_type": "markdown",
   "metadata": {},
   "source": [
    "Vejamos uma forma de utilizar ele com um CRUD"
   ]
  },
  {
   "cell_type": "code",
   "execution_count": 5,
   "metadata": {},
   "outputs": [],
   "source": [
    "function adicionarProduto(id: number, nome: string, preco: number, estoque: number): void {\n",
    "    const produto: Produto = { id, nome, preco, estoque };\n",
    "    catalogo.set(id, produto);\n",
    "}\n",
    "\n",
    "function obterProduto(id: number): Produto | undefined {\n",
    "    return catalogo.get(id);\n",
    "}\n",
    "\n",
    "function listarProdutos(): Produto[] {\n",
    "    return Array.from(catalogo.values());\n",
    "}\n",
    "\n",
    "function atualizarEstoque(id: number, novoEstoque: number): void {\n",
    "    const produto = catalogo.get(id);\n",
    "    if (produto) {\n",
    "        produto.estoque = novoEstoque;\n",
    "        catalogo.set(id, produto); // Atualiza o produto no Map\n",
    "    }\n",
    "}\n",
    "\n",
    "function removerProduto(id: number): void {\n",
    "    catalogo.delete(id);\n",
    "}"
   ]
  },
  {
   "cell_type": "markdown",
   "metadata": {},
   "source": [
    "Fluxo de execução"
   ]
  },
  {
   "cell_type": "code",
   "execution_count": 6,
   "metadata": {},
   "outputs": [
    {
     "name": "stdout",
     "output_type": "stream",
     "text": [
      "[\n",
      "  { id: 1, nome: \"Laptop\", preco: 1500, estoque: 10 },\n",
      "  { id: 2, nome: \"Mouse\", preco: 25, estoque: 50 },\n",
      "  { id: 3, nome: \"Teclado\", preco: 75, estoque: 20 }\n",
      "]\n"
     ]
    }
   ],
   "source": [
    "adicionarProduto(1, \"Laptop\", 1500, 10);\n",
    "adicionarProduto(2, \"Mouse\", 25, 50);\n",
    "adicionarProduto(3, \"Teclado\", 75, 20);\n",
    "\n",
    "console.log(listarProdutos());"
   ]
  },
  {
   "cell_type": "code",
   "execution_count": 7,
   "metadata": {},
   "outputs": [
    {
     "name": "stdout",
     "output_type": "stream",
     "text": [
      "Produto ID: 2 valor do produto: 50\n"
     ]
    }
   ],
   "source": [
    "console.log(\"Produto ID: \" + obterProduto(2)?.id + \" valor do produto: \" +  obterProduto(2)?.estoque );"
   ]
  },
  {
   "cell_type": "code",
   "execution_count": 8,
   "metadata": {},
   "outputs": [
    {
     "name": "stdout",
     "output_type": "stream",
     "text": [
      "Produto ID: 2 valor do produto: 20\n"
     ]
    }
   ],
   "source": [
    "atualizarEstoque(2, 20);\n",
    "console.log(\"Produto ID: \" + obterProduto(2)?.id + \" valor do produto: \" +  obterProduto(2)?.estoque );"
   ]
  },
  {
   "cell_type": "code",
   "execution_count": 9,
   "metadata": {},
   "outputs": [
    {
     "name": "stdout",
     "output_type": "stream",
     "text": [
      "[\n",
      "  { id: 1, nome: \"Laptop\", preco: 1500, estoque: 10 },\n",
      "  { id: 3, nome: \"Teclado\", preco: 75, estoque: 20 }\n",
      "]\n"
     ]
    }
   ],
   "source": [
    "removerProduto(2);\n",
    "console.log(listarProdutos());"
   ]
  }
 ],
 "metadata": {
  "kernelspec": {
   "display_name": "Deno",
   "language": "typescript",
   "name": "deno"
  },
  "language_info": {
   "codemirror_mode": "typescript",
   "file_extension": ".ts",
   "mimetype": "text/x.typescript",
   "name": "typescript",
   "nbconvert_exporter": "script",
   "pygments_lexer": "typescript",
   "version": "5.5.2"
  }
 },
 "nbformat": 4,
 "nbformat_minor": 2
}
