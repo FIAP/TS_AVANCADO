{
 "cells": [
  {
   "cell_type": "markdown",
   "metadata": {},
   "source": [
    "O tipo unknown é usado quando você não sabe o tipo exato de uma variável. É mais seguro que any porque exige que você verifique o tipo antes de usá-lo"
   ]
  },
  {
   "cell_type": "code",
   "execution_count": 2,
   "metadata": {},
   "outputs": [],
   "source": [
    "interface Acao {\n",
    "    tipo: \"acao\";\n",
    "    nome: string;\n",
    "    quantidade: number;\n",
    "    precoPorAcao: number;\n",
    "    dividendoAnual: number;\n",
    "}\n",
    "\n",
    "interface Titulo {\n",
    "    tipo: \"titulo\";\n",
    "    nome: string;\n",
    "    valorInvestido: number;\n",
    "    taxaDeJurosAnual: number;\n",
    "}\n",
    "\n",
    "interface Imovel {\n",
    "    tipo: \"imovel\";\n",
    "    nome: string;\n",
    "    valorInvestido: number;\n",
    "    aluguelMensal: number;\n",
    "}\n",
    "\n",
    "type Investimento = Acao | Titulo | Imovel;"
   ]
  },
  {
   "cell_type": "code",
   "execution_count": 3,
   "metadata": {},
   "outputs": [],
   "source": [
    "function descreverInvestimentoDesconhecido(investimento: unknown): string {\n",
    "    if (typeof investimento === \"object\" && investimento !== null && \"tipo\" in investimento) {\n",
    "        switch ((investimento as Investimento).tipo) {\n",
    "            case \"acao\":\n",
    "                const acao = investimento as Acao;\n",
    "                return `Ação: ${acao.nome}, Quantidade: ${acao.quantidade}, Preço por Ação: R$ ${acao.precoPorAcao}, Dividendo Anual: R$ ${acao.dividendoAnual}`;\n",
    "            case \"titulo\":\n",
    "                const titulo = investimento as Titulo;\n",
    "                return `Título: ${titulo.nome}, Valor Investido: R$ ${titulo.valorInvestido}, Taxa de Juros Anual: ${titulo.taxaDeJurosAnual}%`;\n",
    "            case \"imovel\":\n",
    "                const imovel = investimento as Imovel;\n",
    "                return `Imóvel: ${imovel.nome}, Valor Investido: R$ ${imovel.valorInvestido}, Aluguel Mensal: R$ ${imovel.aluguelMensal}`;\n",
    "            default:\n",
    "                return \"Tipo de investimento desconhecido\";\n",
    "        }\n",
    "    } else {\n",
    "        return \"Formato de investimento inválido\";\n",
    "    }\n",
    "}"
   ]
  },
  {
   "cell_type": "code",
   "execution_count": 4,
   "metadata": {},
   "outputs": [],
   "source": [
    "function isAcao(investimento: unknown): investimento is Acao {\n",
    "    return typeof investimento === \"object\" && investimento !== null && (investimento as Acao).tipo === \"acao\";\n",
    "}\n",
    "\n",
    "function isTitulo(investimento: unknown): investimento is Titulo {\n",
    "    return typeof investimento === \"object\" && investimento !== null && (investimento as Titulo).tipo === \"titulo\";\n",
    "}\n",
    "\n",
    "function isImovel(investimento: unknown): investimento is Imovel {\n",
    "    return typeof investimento === \"object\" && investimento !== null && (investimento as Imovel).tipo === \"imovel\";\n",
    "}"
   ]
  },
  {
   "cell_type": "code",
   "execution_count": 5,
   "metadata": {},
   "outputs": [],
   "source": [
    "function descreverInvestimentoDesconhecido(investimento: unknown): string {\n",
    "    if (isAcao(investimento)) {\n",
    "        return `Ação: ${investimento.nome}, Quantidade: ${investimento.quantidade}, Preço por Ação: R$ ${investimento.precoPorAcao}, Dividendo Anual: R$ ${investimento.dividendoAnual}`;\n",
    "    } else if (isTitulo(investimento)) {\n",
    "        return `Título: ${investimento.nome}, Valor Investido: R$ ${investimento.valorInvestido}, Taxa de Juros Anual: ${investimento.taxaDeJurosAnual}%`;\n",
    "    } else if (isImovel(investimento)) {\n",
    "        return `Imóvel: ${investimento.nome}, Valor Investido: R$ ${investimento.valorInvestido}, Aluguel Mensal: R$ ${investimento.aluguelMensal}`;\n",
    "    } else {\n",
    "        return \"Tipo de investimento desconhecido ou formato inválido\";\n",
    "    }\n",
    "}"
   ]
  },
  {
   "cell_type": "code",
   "execution_count": 7,
   "metadata": {},
   "outputs": [],
   "source": [
    "const acao: Acao = {\n",
    "    tipo: \"acao\",\n",
    "    nome: \"Empresa X\",\n",
    "    quantidade: 100,\n",
    "    precoPorAcao: 50,\n",
    "    dividendoAnual: 5\n",
    "};\n",
    "\n",
    "const titulo: Titulo = {\n",
    "    tipo: \"titulo\",\n",
    "    nome: \"Título Y\",\n",
    "    valorInvestido: 10000,\n",
    "    taxaDeJurosAnual: 7\n",
    "};\n",
    "\n",
    "const imovel: Imovel = {\n",
    "    tipo: \"imovel\",\n",
    "    nome: \"Apartamento Z\",\n",
    "    valorInvestido: 300000,\n",
    "    aluguelMensal: 1500\n",
    "};\n",
    "\n",
    "const investimentoDesconhecido1: unknown = acao;\n",
    "const investimentoDesconhecido2: unknown = titulo;\n",
    "const investimentoDesconhecido3: unknown = imovel;"
   ]
  },
  {
   "cell_type": "code",
   "execution_count": 8,
   "metadata": {},
   "outputs": [
    {
     "name": "stdout",
     "output_type": "stream",
     "text": [
      "Ação: Empresa X, Quantidade: 100, Preço por Ação: R$ 50, Dividendo Anual: R$ 5\n"
     ]
    }
   ],
   "source": [
    "console.log(descreverInvestimentoDesconhecido(investimentoDesconhecido1)); "
   ]
  },
  {
   "cell_type": "code",
   "execution_count": 9,
   "metadata": {},
   "outputs": [
    {
     "name": "stdout",
     "output_type": "stream",
     "text": [
      "Título: Título Y, Valor Investido: R$ 10000, Taxa de Juros Anual: 7%\n"
     ]
    }
   ],
   "source": [
    "console.log(descreverInvestimentoDesconhecido(investimentoDesconhecido2));  "
   ]
  },
  {
   "cell_type": "code",
   "execution_count": 10,
   "metadata": {},
   "outputs": [
    {
     "name": "stdout",
     "output_type": "stream",
     "text": [
      "Imóvel: Apartamento Z, Valor Investido: R$ 300000, Aluguel Mensal: R$ 1500\n"
     ]
    }
   ],
   "source": [
    "console.log(descreverInvestimentoDesconhecido(investimentoDesconhecido3));  "
   ]
  },
  {
   "cell_type": "code",
   "execution_count": 11,
   "metadata": {},
   "outputs": [
    {
     "name": "stdout",
     "output_type": "stream",
     "text": [
      "Tipo de investimento desconhecido ou formato inválido\n"
     ]
    }
   ],
   "source": [
    "const investimentoInvalido: unknown = { tipo: \"cripto\", valor: 1000 };\n",
    "console.log(descreverInvestimentoDesconhecido(investimentoInvalido));    \n"
   ]
  }
 ],
 "metadata": {
  "kernelspec": {
   "display_name": "Deno",
   "language": "typescript",
   "name": "deno"
  },
  "language_info": {
   "codemirror_mode": "typescript",
   "file_extension": ".ts",
   "mimetype": "text/x.typescript",
   "name": "typescript",
   "nbconvert_exporter": "script",
   "pygments_lexer": "typescript",
   "version": "5.5.2"
  }
 },
 "nbformat": 4,
 "nbformat_minor": 2
}
