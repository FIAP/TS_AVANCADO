{
 "cells": [
  {
   "cell_type": "markdown",
   "metadata": {},
   "source": [
    "O tipo never indica que uma função nunca deve retornar algo e que é diferente do type void.\n",
    "\n"
   ]
  },
  {
   "cell_type": "code",
   "execution_count": 1,
   "metadata": {},
   "outputs": [],
   "source": [
    "interface Square {\n",
    "    kind: \"square\";\n",
    "    size: number;\n",
    "}\n",
    "\n",
    "interface Rectangle {\n",
    "    kind: \"rectangle\";\n",
    "    width: number;\n",
    "    height: number;\n",
    "}\n",
    "\n",
    "interface Circle {\n",
    "    kind: \"circle\";\n",
    "    radius: number;\n",
    "}"
   ]
  },
  {
   "cell_type": "code",
   "execution_count": 2,
   "metadata": {},
   "outputs": [],
   "source": [
    "type Shape = Square | Rectangle | Circle;"
   ]
  },
  {
   "cell_type": "code",
   "execution_count": 3,
   "metadata": {},
   "outputs": [],
   "source": [
    "function area(shape: Shape): number {\n",
    "    switch (shape.kind) {\n",
    "        case \"square\":\n",
    "            return shape.size * shape.size;\n",
    "        case \"rectangle\":\n",
    "            return shape.width * shape.height;\n",
    "        case \"circle\":\n",
    "            return Math.PI * shape.radius * shape.radius;\n",
    "        default:\n",
    "            return assertNever(shape);\n",
    "    }\n",
    "}"
   ]
  },
  {
   "cell_type": "code",
   "execution_count": 4,
   "metadata": {},
   "outputs": [],
   "source": [
    "function assertNever(x: never): never {\n",
    "    throw new Error(\"Unexpected object: \" + x);\n",
    "}"
   ]
  },
  {
   "cell_type": "code",
   "execution_count": 5,
   "metadata": {},
   "outputs": [],
   "source": [
    "const square: Square = { kind: \"square\", size: 2 };\n",
    "const rectangle: Rectangle = { kind: \"rectangle\", width: 2, height: 3 };\n",
    "const circle: Circle = { kind: \"circle\", radius: 1 };"
   ]
  },
  {
   "cell_type": "code",
   "execution_count": 6,
   "metadata": {},
   "outputs": [
    {
     "name": "stdout",
     "output_type": "stream",
     "text": [
      "4\n"
     ]
    }
   ],
   "source": [
    "console.log(area(square));  "
   ]
  },
  {
   "cell_type": "code",
   "execution_count": 7,
   "metadata": {},
   "outputs": [
    {
     "name": "stdout",
     "output_type": "stream",
     "text": [
      "6\n"
     ]
    }
   ],
   "source": [
    "console.log(area(rectangle)); "
   ]
  },
  {
   "cell_type": "code",
   "execution_count": 8,
   "metadata": {},
   "outputs": [
    {
     "name": "stdout",
     "output_type": "stream",
     "text": [
      "3.141592653589793\n"
     ]
    }
   ],
   "source": [
    "console.log(area(circle));    "
   ]
  },
  {
   "cell_type": "code",
   "execution_count": 9,
   "metadata": {},
   "outputs": [],
   "source": [
    "interface Triangle {\n",
    "    kind: \"triangle\";\n",
    "    base: number;\n",
    "    height: number;\n",
    "}\n",
    "\n",
    "type Shape = Square | Rectangle | Circle | Triangle;\n"
   ]
  },
  {
   "cell_type": "code",
   "execution_count": 10,
   "metadata": {},
   "outputs": [
    {
     "ename": "Error",
     "evalue": "Unexpected object: [object Object]",
     "output_type": "error",
     "traceback": [
      "Stack trace:",
      "Error: Unexpected object: [object Object]",
      "    at assertNever (<anonymous>:2:9)",
      "    at area (<anonymous>:10:14)",
      "    at <anonymous>:6:13"
     ]
    }
   ],
   "source": [
    "const triangle: Triangle = { kind: \"triangle\", base: 3, height: 4 };\n",
    "console.log(area(triangle));  \n"
   ]
  },
  {
   "cell_type": "code",
   "execution_count": 11,
   "metadata": {},
   "outputs": [
    {
     "name": "stdout",
     "output_type": "stream",
     "text": [
      "6\n"
     ]
    }
   ],
   "source": [
    "function area(shape: Shape): number {\n",
    "    switch (shape.kind) {\n",
    "        case \"square\":\n",
    "            return shape.size * shape.size;\n",
    "        case \"rectangle\":\n",
    "            return shape.width * shape.height;\n",
    "        case \"circle\":\n",
    "            return Math.PI * shape.radius * shape.radius;\n",
    "        case \"triangle\":\n",
    "            return (shape.base * shape.height) / 2;\n",
    "        default:\n",
    "            return assertNever(shape);\n",
    "    }\n",
    "}\n",
    "\n",
    "const triangle: Triangle = { kind: \"triangle\", base: 3, height: 4 };\n",
    "console.log(area(triangle));  "
   ]
  }
 ],
 "metadata": {
  "kernelspec": {
   "display_name": "Deno",
   "language": "typescript",
   "name": "deno"
  },
  "language_info": {
   "codemirror_mode": "typescript",
   "file_extension": ".ts",
   "mimetype": "text/x.typescript",
   "name": "typescript",
   "nbconvert_exporter": "script",
   "pygments_lexer": "typescript",
   "version": "5.5.2"
  }
 },
 "nbformat": 4,
 "nbformat_minor": 2
}
