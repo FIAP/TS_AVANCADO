{
 "cells": [
  {
   "cell_type": "markdown",
   "metadata": {},
   "source": [
    "Os **Guardas de Tipos** (type guards)  são uma maneira de definir uma função ou método que verifica se uma variável é de um determinado tipo. "
   ]
  },
  {
   "cell_type": "code",
   "execution_count": 1,
   "metadata": {},
   "outputs": [],
   "source": [
    "function isString(param: any): value is string {\n",
    "  return typeof param === \"string\";\n",
    "}\n",
    "\n",
    "function example(value: any) {\n",
    "  if (isString(value)) {\n",
    "      console.log(`é uma string`);\n",
    "  } else {\n",
    "      console.log(\"não é uma string\");\n",
    "  }\n",
    "}\n"
   ]
  },
  {
   "cell_type": "code",
   "execution_count": 3,
   "metadata": {},
   "outputs": [
    {
     "name": "stdout",
     "output_type": "stream",
     "text": [
      "não é uma string\n"
     ]
    }
   ],
   "source": [
    "example(18); "
   ]
  },
  {
   "cell_type": "code",
   "execution_count": 4,
   "metadata": {},
   "outputs": [
    {
     "name": "stdout",
     "output_type": "stream",
     "text": [
      "não é uma string\n"
     ]
    }
   ],
   "source": [
    "example(39);"
   ]
  },
  {
   "cell_type": "code",
   "execution_count": null,
   "metadata": {},
   "outputs": [],
   "source": [
    "interface Bird {\n",
    "  fly(): void;\n",
    "}\n",
    "\n",
    "interface Fish {\n",
    "  swim(): void;\n",
    "}"
   ]
  },
  {
   "cell_type": "code",
   "execution_count": 5,
   "metadata": {},
   "outputs": [],
   "source": [
    "function isBird(animal: any): animal is Bird {\n",
    "    return (animal as Bird).fly !== undefined;\n",
    "}\n",
    "\n",
    "function example(animal: Bird | Fish) {\n",
    "    if (isBird(animal)) {\n",
    "        animal.fly();\n",
    "    } else {\n",
    "        animal.swim();\n",
    "    }\n",
    "}"
   ]
  },
  {
   "cell_type": "markdown",
   "metadata": {},
   "source": [
    "Os guardas de tipos são extremamente úteis para garantir a segurança de tipos em TypeScript"
   ]
  },
  {
   "cell_type": "code",
   "execution_count": 9,
   "metadata": {},
   "outputs": [
    {
     "name": "stdout",
     "output_type": "stream",
     "text": [
      "Salmon is swimming\n"
     ]
    }
   ],
   "source": [
    "class Salmon implements Fish {\n",
    "    swim() {\n",
    "      console.log(\"Salmon is swimming\");\n",
    "    }\n",
    "  }\n",
    "\n",
    "const salmon = new Salmon();\n",
    "example(salmon)\n"
   ]
  }
 ],
 "metadata": {
  "kernelspec": {
   "display_name": "Deno",
   "language": "typescript",
   "name": "deno"
  },
  "language_info": {
   "codemirror_mode": "typescript",
   "file_extension": ".ts",
   "mimetype": "text/x.typescript",
   "name": "typescript",
   "nbconvert_exporter": "script",
   "pygments_lexer": "typescript",
   "version": "5.5.2"
  }
 },
 "nbformat": 4,
 "nbformat_minor": 2
}
