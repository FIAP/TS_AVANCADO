{
 "cells": [
  {
   "cell_type": "markdown",
   "metadata": {},
   "source": [
    "O tipo union  permite que uma variável tenha mais de um tipo. \n",
    "\n"
   ]
  },
  {
   "cell_type": "code",
   "execution_count": 2,
   "metadata": {},
   "outputs": [],
   "source": [
    "interface Acao {\n",
    "    tipo: \"acao\";\n",
    "    nome: string;\n",
    "    quantidade: number;\n",
    "    precoPorAcao: number;\n",
    "    dividendoAnual: number;\n",
    "}\n",
    "\n",
    "interface Titulo {\n",
    "    tipo: \"titulo\";\n",
    "    nome: string;\n",
    "    valorInvestido: number;\n",
    "    taxaDeJurosAnual: number;\n",
    "}\n",
    "\n",
    "interface Imovel {\n",
    "    tipo: \"imovel\";\n",
    "    nome: string;\n",
    "    valorInvestido: number;\n",
    "    aluguelMensal: number;\n",
    "}\n",
    "\n",
    "type Investimento = Acao | Titulo | Imovel;"
   ]
  },
  {
   "cell_type": "code",
   "execution_count": 1,
   "metadata": {},
   "outputs": [],
   "source": [
    "function descreverInvestimento(investimento: Investimento): string {\n",
    "    switch (investimento.tipo) {\n",
    "        case \"acao\":\n",
    "            return `Ação: ${investimento.nome}, Quantidade: ${investimento.quantidade}, Preço por Ação: R$ ${investimento.precoPorAcao}, Dividendo Anual: R$ ${investimento.dividendoAnual}`;\n",
    "        case \"titulo\":\n",
    "            return `Título: ${investimento.nome}, Valor Investido: R$ ${investimento.valorInvestido}, Taxa de Juros Anual: ${investimento.taxaDeJurosAnual}%`;\n",
    "        case \"imovel\":\n",
    "            return `Imóvel: ${investimento.nome}, Valor Investido: R$ ${investimento.valorInvestido}, Aluguel Mensal: R$ ${investimento.aluguelMensal}`;\n",
    "        default:\n",
    "            return assertNever(investimento);\n",
    "    }\n",
    "}\n",
    "\n",
    "function assertNever(value: never): never {\n",
    "    throw new Error(`Unexpected value: ${value}`);\n",
    "}"
   ]
  },
  {
   "cell_type": "code",
   "execution_count": 3,
   "metadata": {},
   "outputs": [],
   "source": [
    "const acao: Acao = {\n",
    "    tipo: \"acao\",\n",
    "    nome: \"Empresa Adrianos SA\",\n",
    "    quantidade: 100,\n",
    "    precoPorAcao: 50,\n",
    "    dividendoAnual: 5\n",
    "};\n",
    "\n",
    "const titulo: Titulo = {\n",
    "    tipo: \"titulo\",\n",
    "    nome: \"Título AdrianoMOB\",\n",
    "    valorInvestido: 10000,\n",
    "    taxaDeJurosAnual: 7\n",
    "};\n",
    "\n",
    "const imovel: Imovel = {\n",
    "    tipo: \"imovel\",\n",
    "    nome: \"Apartamento em Acapulco\",\n",
    "    valorInvestido: 300000,\n",
    "    aluguelMensal: 1500\n",
    "};"
   ]
  },
  {
   "cell_type": "code",
   "execution_count": 4,
   "metadata": {},
   "outputs": [
    {
     "name": "stdout",
     "output_type": "stream",
     "text": [
      "Ação: Empresa Adrianos SA, Quantidade: 100, Preço por Ação: R$ 50, Dividendo Anual: R$ 5\n"
     ]
    }
   ],
   "source": [
    "console.log(descreverInvestimento(acao));   "
   ]
  },
  {
   "cell_type": "code",
   "execution_count": 5,
   "metadata": {},
   "outputs": [
    {
     "name": "stdout",
     "output_type": "stream",
     "text": [
      "Título: Título AdrianoMOB, Valor Investido: R$ 10000, Taxa de Juros Anual: 7%\n"
     ]
    }
   ],
   "source": [
    "console.log(descreverInvestimento(titulo)); "
   ]
  },
  {
   "cell_type": "code",
   "execution_count": 6,
   "metadata": {},
   "outputs": [
    {
     "name": "stdout",
     "output_type": "stream",
     "text": [
      "Imóvel: Apartamento em Acapulco, Valor Investido: R$ 300000, Aluguel Mensal: R$ 1500\n"
     ]
    }
   ],
   "source": [
    "console.log(descreverInvestimento(imovel)); "
   ]
  }
 ],
 "metadata": {
  "kernelspec": {
   "display_name": "Deno",
   "language": "typescript",
   "name": "deno"
  },
  "language_info": {
   "codemirror_mode": "typescript",
   "file_extension": ".ts",
   "mimetype": "text/x.typescript",
   "name": "typescript",
   "nbconvert_exporter": "script",
   "pygments_lexer": "typescript",
   "version": "5.5.2"
  }
 },
 "nbformat": 4,
 "nbformat_minor": 2
}
