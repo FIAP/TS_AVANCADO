{
 "cells": [
  {
   "cell_type": "markdown",
   "metadata": {},
   "source": [
    "Utilizando Abstração para criar uma classe de Investimentos"
   ]
  },
  {
   "cell_type": "code",
   "execution_count": 1,
   "metadata": {},
   "outputs": [],
   "source": [
    "abstract class Investimento {\n",
    "    constructor(public nome: string, public valorInvestido: number) {}\n",
    "\n",
    "    abstract calcularRetornoAnual(): number;\n",
    "\n",
    "    descrever(): string {\n",
    "        return `Investimento: ${this.nome}, Valor Investido: R$ ${this.valorInvestido}`;\n",
    "    }\n",
    "}"
   ]
  },
  {
   "cell_type": "markdown",
   "metadata": {},
   "source": [
    "Encapsulamento e Herança"
   ]
  },
  {
   "cell_type": "code",
   "execution_count": 2,
   "metadata": {},
   "outputs": [],
   "source": [
    "class Acao extends Investimento {\n",
    "    private quantidade: number;\n",
    "    private precoPorAcao: number;\n",
    "    private dividendoAnual: number;\n",
    "\n",
    "    constructor(\n",
    "        nome: string,\n",
    "        valorInvestido: number,\n",
    "        quantidade: number,\n",
    "        precoPorAcao: number,\n",
    "        dividendoAnual: number\n",
    "    ) {\n",
    "        super(nome, valorInvestido);\n",
    "        this.quantidade = quantidade;\n",
    "        this.precoPorAcao = precoPorAcao;\n",
    "        this.dividendoAnual = dividendoAnual;\n",
    "    }\n",
    "\n",
    "    public calcularRetornoAnual(): number {\n",
    "        return this.quantidade * this.dividendoAnual;\n",
    "    }\n",
    "\n",
    "    public descrever(): string {\n",
    "        return `${super.descrever()}, Quantidade: ${this.quantidade}, Preço por Ação: R$ ${this.precoPorAcao}, Dividendo Anual: R$ ${this.dividendoAnual}`;\n",
    "    }\n",
    "\n",
    "    public obterQuantidade(): number {\n",
    "        return this.quantidade;\n",
    "    }\n",
    "\n",
    "    public definirQuantidade(quantidade: number): void {\n",
    "        this.quantidade = quantidade;\n",
    "    }\n",
    "}\n",
    "\n",
    "class Titulo extends Investimento {\n",
    "    private taxaDeJurosAnual: number;\n",
    "\n",
    "    constructor(\n",
    "        nome: string,\n",
    "        valorInvestido: number,\n",
    "        taxaDeJurosAnual: number\n",
    "    ) {\n",
    "        super(nome, valorInvestido);\n",
    "        this.taxaDeJurosAnual = taxaDeJurosAnual;\n",
    "    }\n",
    "\n",
    "    public calcularRetornoAnual(): number {\n",
    "        return this.valorInvestido * (this.taxaDeJurosAnual / 100);\n",
    "    }\n",
    "\n",
    "    public descrever(): string {\n",
    "        return `${super.descrever()}, Taxa de Juros Anual: ${this.taxaDeJurosAnual}%`;\n",
    "    }\n",
    "\n",
    "    public obterTaxaDeJurosAnual(): number {\n",
    "        return this.taxaDeJurosAnual;\n",
    "    }\n",
    "\n",
    "    public definirTaxaDeJurosAnual(taxaDeJurosAnual: number): void {\n",
    "        this.taxaDeJurosAnual = taxaDeJurosAnual;\n",
    "    }\n",
    "}\n",
    "\n",
    "class Imovel extends Investimento {\n",
    "    private aluguelMensal: number;\n",
    "\n",
    "    constructor(\n",
    "        nome: string,\n",
    "        valorInvestido: number,\n",
    "        aluguelMensal: number\n",
    "    ) {\n",
    "        super(nome, valorInvestido);\n",
    "        this.aluguelMensal = aluguelMensal;\n",
    "    }\n",
    "\n",
    "    public calcularRetornoAnual(): number {\n",
    "        return this.aluguelMensal * 12;\n",
    "    }\n",
    "\n",
    "    public descrever(): string {\n",
    "        return `${super.descrever()}, Aluguel Mensal: R$ ${this.aluguelMensal}`;\n",
    "    }\n",
    "\n",
    "    public obterAluguelMensal(): number {\n",
    "        return this.aluguelMensal;\n",
    "    }\n",
    "\n",
    "    public definirAluguelMensal(aluguelMensal: number): void {\n",
    "        this.aluguelMensal = aluguelMensal;\n",
    "    }\n",
    "}"
   ]
  },
  {
   "cell_type": "code",
   "execution_count": 3,
   "metadata": {},
   "outputs": [],
   "source": [
    "function processarInvestimentos(investimentos: Investimento[]): void {\n",
    "    investimentos.forEach(investimento => {\n",
    "        console.log(investimento.descrever());\n",
    "    });\n",
    "}\n"
   ]
  },
  {
   "cell_type": "code",
   "execution_count": 4,
   "metadata": {},
   "outputs": [],
   "source": [
    "const acao = new Acao(\"Empresa X\", 5000, 100, 50, 5);\n",
    "const titulo = new Titulo(\"Título Y\", 10000, 7);\n",
    "const imovel = new Imovel(\"Apartamento Z\", 300000, 1500);\n",
    "\n",
    "const meusInvestimentos: Investimento[] = [acao, titulo, imovel];\n"
   ]
  },
  {
   "cell_type": "code",
   "execution_count": 5,
   "metadata": {},
   "outputs": [
    {
     "name": "stdout",
     "output_type": "stream",
     "text": [
      "Investimento: Apartamento Z, Valor Investido: R$ 300000, Aluguel Mensal: R$ 1500\n"
     ]
    }
   ],
   "source": [
    "processarInvestimentos(meusInvestimentos);"
   ]
  }
 ],
 "metadata": {
  "kernelspec": {
   "display_name": "Deno",
   "language": "typescript",
   "name": "deno"
  },
  "language_info": {
   "codemirror_mode": "typescript",
   "file_extension": ".ts",
   "mimetype": "text/x.typescript",
   "name": "typescript",
   "nbconvert_exporter": "script",
   "pygments_lexer": "typescript",
   "version": "5.5.2"
  }
 },
 "nbformat": 4,
 "nbformat_minor": 2
}
