{
 "cells": [
  {
   "cell_type": "markdown",
   "metadata": {},
   "source": [
    "### Loops"
   ]
  },
  {
   "cell_type": "markdown",
   "metadata": {},
   "source": [
    "Um exemplo de loop usando programação funcional pode ser ilustrado através do uso de funções de alta ordem como map, filter e reduce em vez de usar loops tradicionais (for, while). Vamos criar um exemplo em que manipulamos uma lista de números."
   ]
  },
  {
   "cell_type": "markdown",
   "metadata": {},
   "source": [
    "// Função para dobrar os números"
   ]
  },
  {
   "cell_type": "code",
   "execution_count": 1,
   "metadata": {},
   "outputs": [],
   "source": [
    "export const doubleNumbers = (numbers: number[]): number[] => {\n",
    "    return numbers.map(number => number * 2);\n",
    "};"
   ]
  },
  {
   "cell_type": "markdown",
   "metadata": {},
   "source": [
    "Entrada de dados"
   ]
  },
  {
   "cell_type": "code",
   "execution_count": 2,
   "metadata": {},
   "outputs": [],
   "source": [
    "const numbers = [1, 2, 3, 4, 5, 6, 7, 8, 9, 10];"
   ]
  },
  {
   "cell_type": "code",
   "execution_count": 3,
   "metadata": {},
   "outputs": [
    {
     "name": "stdout",
     "output_type": "stream",
     "text": [
      "Doubled Numbers: [\n",
      "   2,  4,  6,  8, 10,\n",
      "  12, 14, 16, 18, 20\n",
      "]\n"
     ]
    }
   ],
   "source": [
    "const doubledNumbers = doubleNumbers(numbers);\n",
    "console.log('Doubled Numbers:', doubledNumbers);"
   ]
  }
 ],
 "metadata": {
  "kernelspec": {
   "display_name": "Deno",
   "language": "typescript",
   "name": "deno"
  },
  "language_info": {
   "codemirror_mode": "typescript",
   "file_extension": ".ts",
   "mimetype": "text/x.typescript",
   "name": "typescript",
   "nbconvert_exporter": "script",
   "pygments_lexer": "typescript",
   "version": "5.5.2"
  }
 },
 "nbformat": 4,
 "nbformat_minor": 2
}
