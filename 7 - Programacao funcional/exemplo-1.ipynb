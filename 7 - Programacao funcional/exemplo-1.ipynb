{
 "cells": [
  {
   "cell_type": "markdown",
   "metadata": {},
   "source": [
    "A programação funcional é um paradigma que trata a computação como a avaliação de funções matemáticas e evita estados e dados mutáveis. TypeScript suporta programação funcional e permite a criação de código limpo, modular e reutilizável."
   ]
  },
  {
   "cell_type": "markdown",
   "metadata": {},
   "source": [
    "### Funções Puras  "
   ]
  },
  {
   "cell_type": "markdown",
   "metadata": {},
   "source": [
    "Funções puras são funções que, para as mesmas entradas, sempre produzem as mesmas saídas e não causam efeitos colaterais."
   ]
  },
  {
   "cell_type": "code",
   "execution_count": 1,
   "metadata": {},
   "outputs": [],
   "source": [
    " const add = (a: number, b: number): number => a + b;\n",
    "\n",
    " const multiply = (a: number, b: number): number => a * b;\n",
    "\n",
    " const circleArea = (radius: number): number => Math.PI * multiply(radius, radius);"
   ]
  },
  {
   "cell_type": "markdown",
   "metadata": {},
   "source": [
    "Saida"
   ]
  },
  {
   "cell_type": "code",
   "execution_count": 8,
   "metadata": {},
   "outputs": [
    {
     "name": "stdout",
     "output_type": "stream",
     "text": [
      "20\n"
     ]
    }
   ],
   "source": [
    "console.log(add(10,10))"
   ]
  },
  {
   "cell_type": "code",
   "execution_count": 13,
   "metadata": {},
   "outputs": [
    {
     "name": "stdout",
     "output_type": "stream",
     "text": [
      "100\n"
     ]
    }
   ],
   "source": [
    "console.log(multiply(10,10))"
   ]
  },
  {
   "cell_type": "code",
   "execution_count": 14,
   "metadata": {},
   "outputs": [
    {
     "name": "stdout",
     "output_type": "stream",
     "text": [
      "3.141592653589793\n"
     ]
    }
   ],
   "source": [
    "console.log(circleArea(1))"
   ]
  },
  {
   "cell_type": "markdown",
   "metadata": {},
   "source": [
    "### Composição de Funções"
   ]
  },
  {
   "cell_type": "markdown",
   "metadata": {},
   "source": [
    "A composição de funções é uma técnica onde você combina múltiplas funções simples para construir funções mais complexas."
   ]
  },
  {
   "cell_type": "code",
   "execution_count": 15,
   "metadata": {},
   "outputs": [],
   "source": [
    "\n",
    " const calculateFinalPrice = (price: number, taxRate: number): number => {\n",
    "    const tax = multiply(price, taxRate);\n",
    "    return add(price, tax);\n",
    "};\n",
    "\n",
    " const totalCircleArea = (radii: number[]): number => {\n",
    "    return radii.map(circleArea).reduce(add, 0);\n",
    "};"
   ]
  },
  {
   "cell_type": "markdown",
   "metadata": {},
   "source": [
    "### Funções de Alta Ordem\n"
   ]
  },
  {
   "cell_type": "markdown",
   "metadata": {},
   "source": [
    "Funções de alta ordem são funções que recebem outras funções como argumentos ou retornam funções como resultado."
   ]
  },
  {
   "cell_type": "code",
   "execution_count": 17,
   "metadata": {},
   "outputs": [],
   "source": [
    " const map = <T, U>(array: T[], transform: (item: T) => U): U[] => {\n",
    "    return array.map(transform);\n",
    "};\n",
    "\n",
    " const filter = <T>(array: T[], predicate: (item: T) => boolean): T[] => {\n",
    "    return array.filter(predicate);\n",
    "};\n",
    "\n",
    " const reduce = <T, U>(array: T[], reducer: (acc: U, item: T) => U, initialValue: U): U => {\n",
    "    return array.reduce(reducer, initialValue);\n",
    "};"
   ]
  },
  {
   "cell_type": "code",
   "execution_count": 18,
   "metadata": {},
   "outputs": [
    {
     "name": "stdout",
     "output_type": "stream",
     "text": [
      "[ 2, 4, 6, 8 ]\n"
     ]
    }
   ],
   "source": [
    "const numbers = [1, 2, 3, 4];\n",
    "const double = (x: number): number => x * 2;\n",
    "\n",
    "const doubledNumbers = map(numbers, double);\n",
    "console.log(doubledNumbers); "
   ]
  },
  {
   "cell_type": "code",
   "execution_count": 21,
   "metadata": {},
   "outputs": [
    {
     "name": "stdout",
     "output_type": "stream",
     "text": [
      "[ 2, 4, 6 ]\n"
     ]
    }
   ],
   "source": [
    "const numbers = [1, 2, 3, 4,5,6];\n",
    "const isEven = (x: number): boolean => x % 2 === 0;\n",
    "\n",
    "const evenNumbers = filter(numbers, isEven);\n",
    "console.log(evenNumbers);"
   ]
  },
  {
   "cell_type": "code",
   "execution_count": 23,
   "metadata": {},
   "outputs": [
    {
     "name": "stdout",
     "output_type": "stream",
     "text": [
      "10\n"
     ]
    }
   ],
   "source": [
    "const numbers = [1, 2, 3, 4];\n",
    "const sum = (acc: number, x: number): number => acc + x;\n",
    "\n",
    "const total = reduce(numbers, sum, 0);\n",
    "console.log(total);"
   ]
  }
 ],
 "metadata": {
  "kernelspec": {
   "display_name": "Deno",
   "language": "typescript",
   "name": "deno"
  },
  "language_info": {
   "codemirror_mode": "typescript",
   "file_extension": ".ts",
   "mimetype": "text/x.typescript",
   "name": "typescript",
   "nbconvert_exporter": "script",
   "pygments_lexer": "typescript",
   "version": "5.5.2"
  }
 },
 "nbformat": 4,
 "nbformat_minor": 2
}
