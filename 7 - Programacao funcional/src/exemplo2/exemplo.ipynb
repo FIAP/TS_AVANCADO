{
 "cells": [
  {
   "cell_type": "markdown",
   "metadata": {},
   "source": [
    "Exemplo de fluxo com POO"
   ]
  },
  {
   "cell_type": "code",
   "execution_count": 1,
   "metadata": {},
   "outputs": [],
   "source": [
    "import axios from 'axios';\n",
    "\n",
    "export class AlphaVantageService {\n",
    "    private readonly apiKey: string;\n",
    "    private readonly baseUrl: string;\n",
    "\n",
    "    constructor(apiKey: string) {\n",
    "        this.apiKey = apiKey;\n",
    "        this.baseUrl = 'https://www.alphavantage.co/query';\n",
    "    }\n",
    "\n",
    "    public async fetchStockData(symbol: string): Promise<any> {\n",
    "        try {\n",
    "            const response = await axios.get(this.baseUrl, {\n",
    "                params: {\n",
    "                    function: 'TIME_SERIES_DAILY',\n",
    "                    symbol: symbol,\n",
    "                    apikey: this.apiKey\n",
    "                }\n",
    "            });\n",
    "            return response.data;\n",
    "        } catch (error) {\n",
    "            console.error('Error fetching stock data:', error);\n",
    "            throw error;\n",
    "        }\n",
    "    }\n",
    "}"
   ]
  },
  {
   "cell_type": "code",
   "execution_count": 2,
   "metadata": {},
   "outputs": [],
   "source": [
    "interface TimeSeries {\n",
    "    [date: string]: {\n",
    "        '1. open': string;\n",
    "        '2. high': string;\n",
    "        '3. low': string;\n",
    "        '4. close': string;\n",
    "        '5. volume': string;\n",
    "    };\n",
    "}\n",
    "\n",
    "export class StockDataProcessor {\n",
    "    public extractClosePrices(timeSeries: TimeSeries): { date: string, close: number }[] {\n",
    "        return Object.entries(timeSeries).map(([date, values]) => ({\n",
    "            date,\n",
    "            close: parseFloat(values['4. close'])\n",
    "        }));\n",
    "    }\n",
    "\n",
    "    public filterRecentPrices(prices: { date: string, close: number }[], days: number): { date: string, close: number }[] {\n",
    "        return prices.slice(0, days);\n",
    "    }\n",
    "\n",
    "    public formatPrices(prices: { date: string, close: number }[]): string[] {\n",
    "        return prices.map(price => `Date: ${price.date}, Close: $${price.close}`);\n",
    "    }\n",
    "}"
   ]
  },
  {
   "cell_type": "code",
   "execution_count": 3,
   "metadata": {},
   "outputs": [
    {
     "data": {
      "text/plain": [
       "Promise { \u001b[36m<pending>\u001b[39m }"
      ]
     },
     "execution_count": 3,
     "metadata": {},
     "output_type": "execute_result"
    }
   ],
   "source": [
    "const apiKey = 'your_alpha_vantage_api_key';\n",
    "const symbol = 'AAPL';\n",
    "const days = 5;\n",
    "\n",
    "const alphaVantageService = new AlphaVantageService(apiKey);\n",
    "const stockDataProcessor = new StockDataProcessor();\n",
    "\n",
    "alphaVantageService.fetchStockData(symbol)\n",
    "    .then(data => {\n",
    "        const timeSeries = data['Time Series (Daily)'];\n",
    "        const closePrices = stockDataProcessor.extractClosePrices(timeSeries);\n",
    "        const recentPrices = stockDataProcessor.filterRecentPrices(closePrices, days);\n",
    "        const formattedPrices = stockDataProcessor.formatPrices(recentPrices);\n",
    "\n",
    "        formattedPrices.forEach(price => console.log(price));\n",
    "    })\n",
    "    .catch(error => console.error('Error displaying stock data:', error));"
   ]
  }
 ],
 "metadata": {
  "kernelspec": {
   "display_name": "Deno",
   "language": "typescript",
   "name": "deno"
  },
  "language_info": {
   "codemirror_mode": "typescript",
   "file_extension": ".ts",
   "mimetype": "text/x.typescript",
   "name": "typescript",
   "nbconvert_exporter": "script",
   "pygments_lexer": "typescript",
   "version": "5.5.2"
  }
 },
 "nbformat": 4,
 "nbformat_minor": 2
}
